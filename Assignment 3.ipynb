{
    "cells": [
        {
            "cell_type": "code",
            "execution_count": 2,
            "source": [
                "#Importing the library\r\n",
                "import Matrix_lib as ml\r\n",
                "Q1=ml.Matrix(ml.read_matrix('1.csv')) #Augmented matrix\r\n",
                "Q2=ml.Matrix(ml.read_matrix('2.csv')) #Augmented matrix\r\n",
                "Q3=ml.Matrix(ml.read_matrix('3.csv')) #Augmented matrix\r\n",
                "Q3_matrix=ml.Matrix(ml.read_matrix('3_matrix.csv')) #not augmented matrix\r\n",
                "Q4=ml.Matrix(ml.read_matrix('4.csv')) #Augmented matrix"
            ],
            "outputs": [],
            "metadata": {}
        },
        {
            "cell_type": "code",
            "execution_count": 3,
            "source": [
                "#Solving Question 1\r\n",
                "Q1.show()"
            ],
            "outputs": [
                {
                    "output_type": "stream",
                    "name": "stdout",
                    "text": [
                        "1,1,1,1,13,\n",
                        "\n",
                        "2,3,0,-1,-1,\n",
                        "\n",
                        "-3,4,1,2,10,\n",
                        "\n",
                        "1,2,-1,1,1,\n",
                        "\n"
                    ]
                }
            ],
            "metadata": {}
        },
        {
            "cell_type": "code",
            "execution_count": 4,
            "source": [
                "ml.GaussJordan(Q1)\r\n",
                "Q1.show() #one of the solutions in an extremely small value compared to others and thus taken to be zero"
            ],
            "outputs": [
                {
                    "output_type": "stream",
                    "name": "stdout",
                    "text": [
                        "1.0,0.0,0.0,0.0,2.000000000000001,\n",
                        "\n",
                        "0.0,1.0,0.0,0.0,-1.3322676295501878e-15,\n",
                        "\n",
                        "0.0,0.0,1.0,0.0,5.999999999999999,\n",
                        "\n",
                        "0.0,0.0,0.0,1.0,5.0,\n",
                        "\n"
                    ]
                }
            ],
            "metadata": {}
        },
        {
            "cell_type": "code",
            "execution_count": 5,
            "source": [
                "#Solving Question 2\r\n",
                "Q2.show()"
            ],
            "outputs": [
                {
                    "output_type": "stream",
                    "name": "stdout",
                    "text": [
                        "0,2,-3,-1,\n",
                        "\n",
                        "1,0,1,0,\n",
                        "\n",
                        "1,-1,0,3,\n",
                        "\n"
                    ]
                }
            ],
            "metadata": {}
        },
        {
            "cell_type": "code",
            "execution_count": 6,
            "source": [
                "ml.GaussJordan(Q2)\r\n",
                "Q2.show() #-0.0 is nothing different from 0"
            ],
            "outputs": [
                {
                    "output_type": "stream",
                    "name": "stdout",
                    "text": [
                        "1.0,0.0,0.0,1.0,\n",
                        "\n",
                        "0.0,1.0,0.0,-2.0,\n",
                        "\n",
                        "-0.0,-0.0,1.0,-1.0,\n",
                        "\n"
                    ]
                }
            ],
            "metadata": {}
        },
        {
            "cell_type": "code",
            "execution_count": 7,
            "source": [
                "#Solving Question 3\r\n",
                "Q3.show()"
            ],
            "outputs": [
                {
                    "output_type": "stream",
                    "name": "stdout",
                    "text": [
                        "0,2,1,1,0,0,\n",
                        "\n",
                        "4,0,1,0,1,0,\n",
                        "\n",
                        "-1,2,0,0,0,1,\n",
                        "\n"
                    ]
                }
            ],
            "metadata": {}
        },
        {
            "cell_type": "code",
            "execution_count": 8,
            "source": [
                "Q3_inv=ml.inverse(Q3)\r\n",
                "#Performing the necessary steps to arrive at the format prescribed in the question\r\n",
                "for i in range(len(Q3_inv.lol)):\r\n",
                "    for j in range(len(Q3_inv.lol[0])):\r\n",
                "        Q3_inv.lol[i][j]=float(format(Q3_inv.lol[i][j],'.2f'))\r\n",
                "Q3_inv.show()"
            ],
            "outputs": [
                {
                    "output_type": "stream",
                    "name": "stdout",
                    "text": [
                        "-0.33,0.33,0.33,\n",
                        "\n",
                        "-0.17,0.17,0.67,\n",
                        "\n",
                        "1.33,-0.33,-1.33,\n",
                        "\n"
                    ]
                }
            ],
            "metadata": {}
        },
        {
            "cell_type": "code",
            "execution_count": 9,
            "source": [
                "#Verifying that the it is indeed the inverse\r\n",
                "Product=ml.Mat_product(Q3_inv,Q3_matrix,show=False)\r\n",
                "#Performing the necessary steps to arrive at the format prescribed in the question\r\n",
                "for i in range(len(Product.lol)):\r\n",
                "    for j in range(len(Product.lol[0])):\r\n",
                "        Product.lol[i][j]=float(format(Product.lol[i][j],'.2f'))\r\n",
                "Product.show()"
            ],
            "outputs": [
                {
                    "output_type": "stream",
                    "name": "stdout",
                    "text": [
                        "0.99,0.0,0.0,\n",
                        "\n",
                        "0.01,1.0,0.0,\n",
                        "\n",
                        "0.01,0.0,1.0,\n",
                        "\n"
                    ]
                }
            ],
            "metadata": {}
        },
        {
            "cell_type": "code",
            "execution_count": 10,
            "source": [
                "#Solving Question 4\r\n",
                "Q4.show()"
            ],
            "outputs": [
                {
                    "output_type": "stream",
                    "name": "stdout",
                    "text": [
                        "1,4,2,3,\n",
                        "\n",
                        "0,1,4,4,\n",
                        "\n",
                        "-1,0,1,0,\n",
                        "\n",
                        "2,0,4,1,\n",
                        "\n"
                    ]
                }
            ],
            "metadata": {}
        },
        {
            "cell_type": "code",
            "execution_count": 11,
            "source": [
                "ml.Determinant(Q4)"
            ],
            "outputs": [
                {
                    "output_type": "execute_result",
                    "data": {
                        "text/plain": [
                            "65.0"
                        ]
                    },
                    "metadata": {},
                    "execution_count": 11
                }
            ],
            "metadata": {}
        }
    ],
    "metadata": {
        "orig_nbformat": 4,
        "language_info": {
            "name": "python",
            "version": "3.8.3",
            "mimetype": "text/x-python",
            "codemirror_mode": {
                "name": "ipython",
                "version": 3
            },
            "pygments_lexer": "ipython3",
            "nbconvert_exporter": "python",
            "file_extension": ".py"
        },
        "kernelspec": {
            "name": "python3",
            "display_name": "Python 3.8.3 64-bit"
        },
        "interpreter": {
            "hash": "2db524e06e9f5f4ffedc911c917cb75e12dbc923643829bf417064a77eb14d37"
        }
    },
    "nbformat": 4,
    "nbformat_minor": 2
}